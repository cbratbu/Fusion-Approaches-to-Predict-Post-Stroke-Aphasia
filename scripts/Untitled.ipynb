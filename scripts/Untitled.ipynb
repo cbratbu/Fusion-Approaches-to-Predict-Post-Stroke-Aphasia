{
 "cells": [
  {
   "cell_type": "code",
   "execution_count": 1,
   "id": "b1000fec",
   "metadata": {},
   "outputs": [],
   "source": [
    "import numpy as np \n",
    "import pandas as pd \n",
    "from os import listdir\n",
    "from os.path import isfile, join\n"
   ]
  },
  {
   "cell_type": "code",
   "execution_count": 2,
   "id": "7a2fd983",
   "metadata": {},
   "outputs": [],
   "source": [
    "# list(csvfiles)\n",
    "# subjectIDs.values.flatten().astype(str)\n"
   ]
  },
  {
   "cell_type": "code",
   "execution_count": 12,
   "id": "cb4cb6fd",
   "metadata": {},
   "outputs": [
    {
     "name": "stdout",
     "output_type": "stream",
     "text": [
      "pdf alias shape =  (65, 2)  -- pdf score shape =  (55, 2)\n"
     ]
    }
   ],
   "source": [
    "mypath = \"/projectnb/skiran/Isaac/data_for_saurav/\"\n",
    "subjectIDs = pd.read_csv(mypath+\"Subject_IDs.csv\", header = None)\n",
    "\n",
    "filenames = listdir(mypath)\n",
    "csvfiles = [ filename for filename in filenames if filename.endswith( \".csv\" ) ]\n",
    "csvfiles.remove('Subject_IDs.csv')\n",
    "csvfiles = sorted(csvfiles)\n",
    "pdf = {\"patientIDs\" : list(subjectIDs.values.flatten().astype(str)),\n",
    "       \"alias\" : list(csvfiles)\n",
    "      }\n",
    "\n",
    "pdf_alias = pd.DataFrame(pdf)\n",
    "\n",
    "\n",
    "df = pd.read_excel(\"/projectnb/skiran/saurav/Fall-2022/RS\" + \"/compiled_dataset_RSbivariate_without_controls_v7.xlsx\", header = [0,1])\n",
    "outputs = df[(\"behavioral\", \"wab_aq_bd\")]\n",
    "\n",
    "pdf = { \"patientIDs\": list(df[(\"participant\", \"participant\")]),\n",
    "        \"scores\" : list(outputs) \n",
    "      }\n",
    "pdf_scores = pd.DataFrame(pdf)\n",
    "\n",
    "print(\"pdf alias shape = \", pdf_alias.shape, \" -- pdf score shape = \", pdf_scores.shape)\n"
   ]
  },
  {
   "cell_type": "code",
   "execution_count": null,
   "id": "b6713440",
   "metadata": {},
   "outputs": [],
   "source": []
  },
  {
   "cell_type": "code",
   "execution_count": 16,
   "id": "ac27bdcf",
   "metadata": {},
   "outputs": [
    {
     "name": "stderr",
     "output_type": "stream",
     "text": [
      "/scratch/131859.1.onrcc-m256/ipykernel_10267/3420246208.py:25: DeprecationWarning: `np.bool` is a deprecated alias for the builtin `bool`. To silence this warning, use `bool` by itself. Doing this will not modify any behavior and is safe. If you specifically wanted the numpy scalar type, use `np.bool_` here.\n",
      "Deprecated in NumPy 1.20; for more details and guidance: https://numpy.org/devdocs/release/1.20.0-notes.html#deprecations\n",
      "  df = df.where(np.triu(np.ones(df.shape),k=1).astype(np.bool))\n"
     ]
    },
    {
     "data": {
      "text/plain": [
       "array([0.54318573, 0.49769502, 0.15269705, ..., 0.54129219, 0.45752985,\n",
       "       0.39583786])"
      ]
     },
     "execution_count": 16,
     "metadata": {},
     "output_type": "execute_result"
    }
   ],
   "source": [
    "\n",
    "corr_data = []\n",
    "scores = []\n",
    "for patient, score in pdf_scores.values:\n",
    "    if patient != \"BU29c07\":\n",
    "#         print(\"patient = \", patient, \" -- scores = \", score, \" -- alias = \", list(pdf_alias[pdf_alias[\"patientIDs\"] == patient][\"alias\"])[0])\n",
    "        fname = mypath  + list(pdf_alias[pdf_alias[\"patientIDs\"] == patient][\"alias\"])[0]\n",
    "        scores.append(score)\n",
    "        df = pd.read_csv(fname)\n",
    "        columns = df.columns\n",
    "        df.index = columns\n",
    "        corr_data.append(df)\n",
    "    else:\n",
    "#         print(\"patient = \", patient, \" -- scores = \", score, \" -- alias = \", list(pdf_alias[pdf_alias[\"patientIDs\"] == patient+\"NU\"][\"alias\"])[0])\n",
    "        fname = mypath  + list(pdf_alias[pdf_alias[\"patientIDs\"] == patient+\"NU\"][\"alias\"])[0]\n",
    "        df = pd.read_csv(fname)\n",
    "        columns = df.columns\n",
    "        df.index = columns\n",
    "        scores.append(score)\n",
    "        corr_data.append(df)\n",
    "        \n",
    "\n",
    "correlation_data = corr_data\n",
    "for index,data in enumerate(correlation_data):\n",
    "    df = data\n",
    "    df = df.where(np.triu(np.ones(df.shape),k=1).astype(np.bool))\n",
    "    df = df.stack().reset_index()\n",
    "    df.columns = ['Row','Column','Value']\n",
    "    \n",
    "    df[\"index\"] = df[\"Row\"] + \"-vs-\" + df[\"Column\"]\n",
    "    correlation_data[index] = df[\"Value\"].values #data.values[np.triu_indices(48, k = 1)]\n",
    "    all_features = df[\"index\"]\n",
    "correlation_data[0]"
   ]
  },
  {
   "cell_type": "code",
   "execution_count": 18,
   "id": "d36c9ff6",
   "metadata": {},
   "outputs": [
    {
     "data": {
      "text/plain": [
       "array([[ 0.54318573,  0.49769502,  0.15269705, ...,  0.54129219,\n",
       "         0.45752985,  0.39583786],\n",
       "       [ 0.31337034,  0.60173758,  0.33918601, ...,  0.41270039,\n",
       "         0.2502227 ,  0.26021853],\n",
       "       [ 0.39162063,  0.61841994,  0.0276738 , ...,  0.34259815,\n",
       "         0.12261526,  0.38368191],\n",
       "       ...,\n",
       "       [ 0.35124405,  0.62184308,  0.27302733, ...,  0.26199443,\n",
       "         0.12609409,  0.64633376],\n",
       "       [ 0.33181602,  0.41715246, -0.01356422, ...,  0.24050942,\n",
       "         0.45911877,  0.36147037],\n",
       "       [ 0.48555447,  0.42244135,  0.25793505, ...,  0.27152909,\n",
       "         0.61172267,  0.28565473]])"
      ]
     },
     "execution_count": 18,
     "metadata": {},
     "output_type": "execute_result"
    }
   ],
   "source": [
    "correlation_data = np.array(correlation_data)\n",
    "correlation_data\n"
   ]
  },
  {
   "cell_type": "code",
   "execution_count": 23,
   "id": "b74bdc19",
   "metadata": {},
   "outputs": [
    {
     "data": {
      "text/plain": [
       "SVR(epsilon=0.2)"
      ]
     },
     "execution_count": 23,
     "metadata": {},
     "output_type": "execute_result"
    }
   ],
   "source": [
    "from sklearn.svm import SVR\n",
    "from sklearn.pipeline import make_pipeline\n",
    "from sklearn.preprocessing import StandardScaler\n",
    "\n",
    "regr =  SVR(C=1.0, epsilon=0.2)#make_pipeline(StandardScaler(), SVR(C=1.0, epsilon=0.2))\n",
    "regr.fit(correlation_data, scores)"
   ]
  },
  {
   "cell_type": "code",
   "execution_count": null,
   "id": "f890eae7",
   "metadata": {},
   "outputs": [],
   "source": []
  },
  {
   "cell_type": "code",
   "execution_count": 166,
   "id": "6d4b0fcc",
   "metadata": {},
   "outputs": [
    {
     "data": {
      "text/html": [
       "<div>\n",
       "<style scoped>\n",
       "    .dataframe tbody tr th:only-of-type {\n",
       "        vertical-align: middle;\n",
       "    }\n",
       "\n",
       "    .dataframe tbody tr th {\n",
       "        vertical-align: top;\n",
       "    }\n",
       "\n",
       "    .dataframe thead th {\n",
       "        text-align: right;\n",
       "    }\n",
       "</style>\n",
       "<table border=\"1\" class=\"dataframe\">\n",
       "  <thead>\n",
       "    <tr style=\"text-align: right;\">\n",
       "      <th></th>\n",
       "      <th>columns</th>\n",
       "      <th>importances</th>\n",
       "    </tr>\n",
       "  </thead>\n",
       "  <tbody>\n",
       "    <tr>\n",
       "      <th>0</th>\n",
       "      <td>L_INS-vs-L_STG</td>\n",
       "      <td>0.387281</td>\n",
       "    </tr>\n",
       "    <tr>\n",
       "      <th>1</th>\n",
       "      <td>L_MTG-vs-R_IFGop</td>\n",
       "      <td>0.395146</td>\n",
       "    </tr>\n",
       "    <tr>\n",
       "      <th>2</th>\n",
       "      <td>L_IFGtri-vs-L_ITG</td>\n",
       "      <td>0.397811</td>\n",
       "    </tr>\n",
       "    <tr>\n",
       "      <th>3</th>\n",
       "      <td>L_STG-vs-R_STG</td>\n",
       "      <td>0.458890</td>\n",
       "    </tr>\n",
       "    <tr>\n",
       "      <th>4</th>\n",
       "      <td>L_SMG-vs-R_SMG</td>\n",
       "      <td>0.399784</td>\n",
       "    </tr>\n",
       "    <tr>\n",
       "      <th>5</th>\n",
       "      <td>L_ITG-vs-R_MFG</td>\n",
       "      <td>0.432364</td>\n",
       "    </tr>\n",
       "    <tr>\n",
       "      <th>6</th>\n",
       "      <td>L_IFGorb-vs-L_MTG</td>\n",
       "      <td>0.547716</td>\n",
       "    </tr>\n",
       "    <tr>\n",
       "      <th>7</th>\n",
       "      <td>L_SFGmedial-vs-R_midTP</td>\n",
       "      <td>0.472901</td>\n",
       "    </tr>\n",
       "    <tr>\n",
       "      <th>8</th>\n",
       "      <td>L_IFGtri-vs-L_MTG</td>\n",
       "      <td>0.448727</td>\n",
       "    </tr>\n",
       "    <tr>\n",
       "      <th>9</th>\n",
       "      <td>L_MFG-vs-R_OFGmedial</td>\n",
       "      <td>0.427919</td>\n",
       "    </tr>\n",
       "  </tbody>\n",
       "</table>\n",
       "</div>"
      ],
      "text/plain": [
       "                  columns  importances\n",
       "0          L_INS-vs-L_STG     0.387281\n",
       "1        L_MTG-vs-R_IFGop     0.395146\n",
       "2       L_IFGtri-vs-L_ITG     0.397811\n",
       "3          L_STG-vs-R_STG     0.458890\n",
       "4          L_SMG-vs-R_SMG     0.399784\n",
       "5          L_ITG-vs-R_MFG     0.432364\n",
       "6       L_IFGorb-vs-L_MTG     0.547716\n",
       "7  L_SFGmedial-vs-R_midTP     0.472901\n",
       "8       L_IFGtri-vs-L_MTG     0.448727\n",
       "9    L_MFG-vs-R_OFGmedial     0.427919"
      ]
     },
     "execution_count": 166,
     "metadata": {},
     "output_type": "execute_result"
    }
   ],
   "source": [
    "correlation_data = pd.DataFrame(correlation_data, columns = all_features)\n",
    "correlation_data\n",
    "\n",
    "data = correlation_data.values \n",
    "data = np.hstack((data,np.array(outputs).reshape(55,1)))\n",
    "\n",
    "data = pd.DataFrame(data)\n",
    "\n",
    "corrs = data.corr().abs()\n",
    "importances = corrs.values[-1][:-1]\n",
    "importances\n",
    "\n",
    "top_columns = np.argpartition(importances, -10)[-10:]\n",
    "\n",
    "columns = list(correlation_data.columns[top_columns])\n",
    "imps = importances[top_columns]\n",
    "\n",
    "df = {\n",
    "    \"columns\" : columns,\n",
    "    \"importances\" : imps\n",
    "}\n",
    "\n",
    "df = pd.DataFrame(df)\n",
    "df"
   ]
  },
  {
   "cell_type": "code",
   "execution_count": null,
   "id": "ac0b2e92",
   "metadata": {},
   "outputs": [],
   "source": []
  },
  {
   "cell_type": "code",
   "execution_count": null,
   "id": "06b5726e",
   "metadata": {
    "scrolled": true
   },
   "outputs": [],
   "source": []
  },
  {
   "cell_type": "code",
   "execution_count": null,
   "id": "c8f9e192",
   "metadata": {},
   "outputs": [],
   "source": []
  },
  {
   "cell_type": "code",
   "execution_count": null,
   "id": "cb20632c",
   "metadata": {},
   "outputs": [],
   "source": []
  }
 ],
 "metadata": {
  "kernelspec": {
   "display_name": "Python 3 (ipykernel)",
   "language": "python",
   "name": "python3"
  },
  "language_info": {
   "codemirror_mode": {
    "name": "ipython",
    "version": 3
   },
   "file_extension": ".py",
   "mimetype": "text/x-python",
   "name": "python",
   "nbconvert_exporter": "python",
   "pygments_lexer": "ipython3",
   "version": "3.9.9"
  }
 },
 "nbformat": 4,
 "nbformat_minor": 5
}
