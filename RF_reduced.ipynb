{
 "cells": [
  {
   "cell_type": "code",
   "execution_count": 13,
   "outputs": [],
   "source": [
    "import numpy as np\n",
    "import pandas as pd\n",
    "from os import listdir\n",
    "from os.path import isfile, join\n",
    "import scipy.stats as sp\n",
    "\n",
    "from sklearn.model_selection import train_test_split\n",
    "from sklearn.model_selection import GridSearchCV\n",
    "from sklearn.ensemble import RandomForestRegressor\n",
    "from sklearn.decomposition import PCA\n",
    "from sklearn.model_selection import KFold\n",
    "from sklearn.metrics import mean_squared_error, mean_absolute_error\n",
    "\n",
    "from sklearn.svm import SVR\n",
    "import itertools\n",
    "from tqdm import tqdm"
   ],
   "metadata": {
    "collapsed": false,
    "pycharm": {
     "name": "#%%\n"
    }
   }
  },
  {
   "cell_type": "code",
   "execution_count": 1,
   "outputs": [],
   "source": [
    "SVR_params = {\n",
    "    \"kernel\" : (\"linear\", \"rbf\", \"poly\"),\n",
    "    \"C\" :  [1e-4,1e-3,1e-2,1e-1,1,10,50,100,200,500,1000],\n",
    "    \"epsilon\" : [1e-4,1e-3,1e-2,1e-2,1,5],\n",
    "    \"tol\" : [1e-4,1e-3,1e-2,1e-2,1,10,50,100,200,500,1000],\n",
    "    \"gamma\" : [1e-9, 1e-8, 1e-7,1e-6,1e-5,1e-4,1e-3,1e-2,1e-1, 1]\n",
    "}"
   ],
   "metadata": {
    "collapsed": false,
    "pycharm": {
     "name": "#%%\n"
    }
   }
  },
  {
   "cell_type": "code",
   "execution_count": 7,
   "outputs": [
    {
     "data": {
      "text/plain": "'kernel | C | epsilon | tol | gamma'"
     },
     "execution_count": 7,
     "metadata": {},
     "output_type": "execute_result"
    }
   ],
   "source": [
    "list(SVR_params)\n",
    "\" | \".join(SVR_params)"
   ],
   "metadata": {
    "collapsed": false,
    "pycharm": {
     "name": "#%%\n"
    }
   }
  },
  {
   "cell_type": "code",
   "execution_count": 11,
   "outputs": [],
   "source": [
    "PATH = \"../RS/time_series\"\n",
    "\n",
    "SVR_params = {\n",
    "    \"kernel\" : (\"linear\", \"rbf\", \"poly\"),\n",
    "    \"C\" :  [1e-4,1e-3,1e-2,1e-1,1,10,50,100,200,500,1000],\n",
    "    \"epsilon\" : [1e-4,1e-3,1e-2,1e-2,1,5],\n",
    "    \"tol\" : [1e-4,1e-3,1e-2,1e-2,1,10,50,100,200,500,1000],\n",
    "    \"gamma\" : [1e-9, 1e-8, 1e-7,1e-6,1e-5,1e-4,1e-3,1e-2,1e-1, 1]\n",
    "}\n",
    "\n",
    "RFParams = {\n",
    "    \"max_depth\" : [2,5,10,15,30,35,40,50,70,90,100,200,500,700,1000,1500,2100],\n",
    "    # \"criterion\" : (\\\"mse\\\", \\\"mae\\\", \\\"poisson\\\"),\\n\",\n",
    "    \"max_features\" : [\"log2\", \"sqrt\", 0.1, 0.2, 0.3],\n",
    "    # \"min_samples_split\\\" : [2,3,4,5,7,10,15]\\n\",\n",
    "}"
   ],
   "metadata": {
    "collapsed": false,
    "pycharm": {
     "name": "#%%\n"
    }
   }
  },
  {
   "cell_type": "code",
   "execution_count": 10,
   "outputs": [],
   "source": [
    "# list(itertools.product(*SVR_params.values()))"
   ],
   "metadata": {
    "collapsed": false,
    "pycharm": {
     "name": "#%%\n"
    }
   }
  },
  {
   "cell_type": "code",
   "execution_count": 8,
   "outputs": [],
   "source": [
    "class getData:\n",
    "    def __init__(self, settings):\n",
    "        self.path = PATH\n",
    "        self.augment = settings[\"Augment\"]\n",
    "        # self.path = PATH\n",
    "        self.repeat_features = settings[\"repeat features\"]\n",
    "        self.init()\n",
    "\n",
    "    def sortFiles(self) -> None:\n",
    "        # READING THE DATA,\n",
    "        self.column_names = pd.read_csv(self.path + \"/\" + \"ROIs.csv\", header = None)\n",
    "        self.files = [f for f in listdir(self.path) if isfile(join(self.path, f))]\n",
    "        self.files.remove(\"ROIs.csv\")\n",
    "        self.files = np.sort(self.files) # file names for the data\"\n",
    "\n",
    "        # READING THE FILE TO GET PATIENT SCORES\",\n",
    "        real_df = pd.read_excel(\"../RS_bivariate_AQ_continuous.xlsx\")\n",
    "        rdf = real_df[[\"participant\", \"AQ\"]]\n",
    "\n",
    "        # EXTRACTING THE WAB SCORES OF THE PATIENTS\n",
    "        parts = list(rdf[\"participant\"])\n",
    "        self.participants= parts[:30] + parts[31:32] + parts[35:51] + parts[53:60] + parts[61:63] + parts[30:31] # participant IDs\"\n",
    "        self.wabaq = list(rdf[\"AQ\"])  # Participant scores\"\n",
    "\n",
    "\n",
    "    def noAugment(self) -> None:\n",
    "\n",
    "        self.correlation_data = []\n",
    "        self.outputs = []\n",
    "\n",
    "        def modify_data():\n",
    "            for index,data in enumerate(self.correlation_data):\n",
    "                self.correlation_data[index] = data.values[np.triu_indices(48, k = 1)]\n",
    "\n",
    "            self.correlation_data = np.array(self.correlation_data)\n",
    "            self.outputs =  np.array(self.outputs)\n",
    "\n",
    "        for patient_index, patient_file in enumerate(self.files):\n",
    "\n",
    "            # READING THE PATIENT TIME SERIES FMRI DATA\n",
    "            file = pd.read_csv(self.path + \"/\" + self.files[patient_index], header = None)\n",
    "            file.columns = list(self.column_names[0])\n",
    "            file = file.reindex(sorted(file.columns), axis = 1)\n",
    "\n",
    "            # CALCULATE THE CORRELATION MATRIX\\n\",\n",
    "            self.correlation_data.append(file.corr())\n",
    "            self.outputs.append(self.wabaq[patient_index])\n",
    "\n",
    "        modify_data()\n",
    "\n",
    "    # def reduce(self):\n",
    "\n",
    "\n",
    "    def data(self, reduce = False):\n",
    "        if reduce == True:\n",
    "            self.reduce()\n",
    "\n",
    "        return self.correlation_data, self.outputs\n",
    "\n",
    "    def params(self, model):\n",
    "        if model == \"SVR\":\n",
    "            return\n",
    "\n",
    "\n",
    "    def init(self):\n",
    "        # GETTING THINGS READY TO GET THE DATA\n",
    "        self.sortFiles()\n",
    "\n",
    "        # GETTING THE DATA\n",
    "        if self.augment:\n",
    "            self.augment()\n",
    "        else:\n",
    "            self.noAugment()\n",
    "\n",
    "    def describe(self):\n",
    "        print('data shape = ', self.correlation_data.shape)\n",
    "        print(\"output shape = \", self.outputs.shape)"
   ],
   "metadata": {
    "collapsed": false,
    "pycharm": {
     "name": "#%%\n"
    }
   }
  },
  {
   "cell_type": "code",
   "execution_count": 36,
   "outputs": [
    {
     "name": "stdout",
     "output_type": "stream",
     "text": [
      "data shape =  (55, 1128)\n",
      "top 4 columns =  [789 506 321 802 508]\n"
     ]
    },
    {
     "data": {
      "text/plain": "         789       506       321       802       508\n0   0.005445  0.107220  0.012351  0.027267  0.102429\n1  -0.016972 -0.117326 -0.160718  0.429529 -0.449803\n2  -0.040033  0.047920 -0.043684  0.078516 -0.255152\n3  -0.188936 -0.083367  0.005783  0.256438 -0.169686\n4  -0.091557 -0.255093 -0.229797  0.428399 -0.368633\n5   0.020804  0.047311  0.087014  0.228145 -0.139968\n6   0.001444  0.007603 -0.207880  0.153184  0.017548\n7  -0.013436 -0.271193 -0.044459  0.373446 -0.196428\n8  -0.110022 -0.184259 -0.117744  0.239796 -0.242820\n9  -0.041628  0.120709  0.086177  0.374632  0.084769\n10 -0.003208  0.311732  0.111483  0.139252 -0.179477\n11 -0.082319 -0.161112 -0.217253  0.256419 -0.031533\n12  0.113323 -0.012022  0.114697  0.271878 -0.063440\n13 -0.090212 -0.171119 -0.176511  0.258840 -0.164835\n14  0.260363  0.090569  0.026620  0.166988 -0.160821\n15 -0.067470 -0.159887  0.082136  0.282999 -0.056010\n16 -0.335351 -0.203988 -0.063105  0.444042  0.023710\n17  0.102721 -0.140654 -0.075876  0.085532 -0.011040\n18 -0.091410 -0.399314 -0.174561  0.460633 -0.331005\n19 -0.059345 -0.031906  0.030650  0.145787 -0.162387\n20 -0.229324 -0.306182 -0.276573  0.097142 -0.389382\n21 -0.092730 -0.196368 -0.157182  0.507736 -0.258405\n22 -0.158562 -0.099270 -0.078650  0.435517 -0.175496\n23 -0.013839 -0.034275 -0.039855  0.249789 -0.019104\n24 -0.290412 -0.049850 -0.237276 -0.036272 -0.087071\n25 -0.068741 -0.161896 -0.113903  0.443165 -0.169758\n26 -0.143730  0.033546 -0.174415  0.246710 -0.079227\n27 -0.063165 -0.208341 -0.212331  0.368176 -0.109654\n28 -0.013110 -0.109102  0.107059  0.180226 -0.128678\n29 -0.036548 -0.062886  0.071405  0.124455 -0.134076\n30  0.070237  0.230125 -0.104868 -0.010204 -0.122509\n31  0.142658  0.272102  0.119076 -0.099735  0.074091\n32 -0.160640  0.021085 -0.120870 -0.030574 -0.214120\n33  0.246507  0.044817 -0.187730  0.084972  0.074283\n34  0.163538  0.129153  0.028903  0.434556 -0.181951\n35 -0.073937  0.091399 -0.002801  0.127621 -0.089595\n36  0.090313  0.110137 -0.006026 -0.134560  0.044413\n37 -0.061033 -0.030893 -0.141059  0.112909 -0.197387\n38 -0.235975 -0.046568 -0.153514 -0.232587  0.101289\n39  0.077226 -0.034320 -0.177275  0.186963 -0.368461\n40 -0.163946  0.005361 -0.126651  0.035804  0.058191\n41  0.012201  0.032116 -0.013903  0.017621 -0.103072\n42  0.098947 -0.149714 -0.015823 -0.052988  0.052957\n43  0.091281 -0.161689 -0.316709 -0.088789 -0.088733\n44 -0.198072 -0.067294 -0.191079  0.219469 -0.033120\n45  0.109897  0.023982  0.077239  0.117064 -0.020282\n46  0.062546  0.164550  0.146358  0.018794  0.146651\n47  0.119537 -0.114713  0.155749  0.022336 -0.293976\n48 -0.009804 -0.101604 -0.043287 -0.113689 -0.243278\n49  0.027528 -0.015729  0.017045 -0.033040 -0.026530\n50 -0.074926 -0.136937 -0.309206 -0.000980 -0.114496\n51 -0.033972 -0.320348 -0.161745  0.055337 -0.142317\n52 -0.310494 -0.022288 -0.068580  0.261637 -0.052972\n53 -0.181573  0.017784 -0.046805  0.074879 -0.176673\n54 -0.120529 -0.105436 -0.125542  0.298482 -0.034511",
      "text/html": "<div>\n<style scoped>\n    .dataframe tbody tr th:only-of-type {\n        vertical-align: middle;\n    }\n\n    .dataframe tbody tr th {\n        vertical-align: top;\n    }\n\n    .dataframe thead th {\n        text-align: right;\n    }\n</style>\n<table border=\"1\" class=\"dataframe\">\n  <thead>\n    <tr style=\"text-align: right;\">\n      <th></th>\n      <th>789</th>\n      <th>506</th>\n      <th>321</th>\n      <th>802</th>\n      <th>508</th>\n    </tr>\n  </thead>\n  <tbody>\n    <tr>\n      <th>0</th>\n      <td>0.005445</td>\n      <td>0.107220</td>\n      <td>0.012351</td>\n      <td>0.027267</td>\n      <td>0.102429</td>\n    </tr>\n    <tr>\n      <th>1</th>\n      <td>-0.016972</td>\n      <td>-0.117326</td>\n      <td>-0.160718</td>\n      <td>0.429529</td>\n      <td>-0.449803</td>\n    </tr>\n    <tr>\n      <th>2</th>\n      <td>-0.040033</td>\n      <td>0.047920</td>\n      <td>-0.043684</td>\n      <td>0.078516</td>\n      <td>-0.255152</td>\n    </tr>\n    <tr>\n      <th>3</th>\n      <td>-0.188936</td>\n      <td>-0.083367</td>\n      <td>0.005783</td>\n      <td>0.256438</td>\n      <td>-0.169686</td>\n    </tr>\n    <tr>\n      <th>4</th>\n      <td>-0.091557</td>\n      <td>-0.255093</td>\n      <td>-0.229797</td>\n      <td>0.428399</td>\n      <td>-0.368633</td>\n    </tr>\n    <tr>\n      <th>5</th>\n      <td>0.020804</td>\n      <td>0.047311</td>\n      <td>0.087014</td>\n      <td>0.228145</td>\n      <td>-0.139968</td>\n    </tr>\n    <tr>\n      <th>6</th>\n      <td>0.001444</td>\n      <td>0.007603</td>\n      <td>-0.207880</td>\n      <td>0.153184</td>\n      <td>0.017548</td>\n    </tr>\n    <tr>\n      <th>7</th>\n      <td>-0.013436</td>\n      <td>-0.271193</td>\n      <td>-0.044459</td>\n      <td>0.373446</td>\n      <td>-0.196428</td>\n    </tr>\n    <tr>\n      <th>8</th>\n      <td>-0.110022</td>\n      <td>-0.184259</td>\n      <td>-0.117744</td>\n      <td>0.239796</td>\n      <td>-0.242820</td>\n    </tr>\n    <tr>\n      <th>9</th>\n      <td>-0.041628</td>\n      <td>0.120709</td>\n      <td>0.086177</td>\n      <td>0.374632</td>\n      <td>0.084769</td>\n    </tr>\n    <tr>\n      <th>10</th>\n      <td>-0.003208</td>\n      <td>0.311732</td>\n      <td>0.111483</td>\n      <td>0.139252</td>\n      <td>-0.179477</td>\n    </tr>\n    <tr>\n      <th>11</th>\n      <td>-0.082319</td>\n      <td>-0.161112</td>\n      <td>-0.217253</td>\n      <td>0.256419</td>\n      <td>-0.031533</td>\n    </tr>\n    <tr>\n      <th>12</th>\n      <td>0.113323</td>\n      <td>-0.012022</td>\n      <td>0.114697</td>\n      <td>0.271878</td>\n      <td>-0.063440</td>\n    </tr>\n    <tr>\n      <th>13</th>\n      <td>-0.090212</td>\n      <td>-0.171119</td>\n      <td>-0.176511</td>\n      <td>0.258840</td>\n      <td>-0.164835</td>\n    </tr>\n    <tr>\n      <th>14</th>\n      <td>0.260363</td>\n      <td>0.090569</td>\n      <td>0.026620</td>\n      <td>0.166988</td>\n      <td>-0.160821</td>\n    </tr>\n    <tr>\n      <th>15</th>\n      <td>-0.067470</td>\n      <td>-0.159887</td>\n      <td>0.082136</td>\n      <td>0.282999</td>\n      <td>-0.056010</td>\n    </tr>\n    <tr>\n      <th>16</th>\n      <td>-0.335351</td>\n      <td>-0.203988</td>\n      <td>-0.063105</td>\n      <td>0.444042</td>\n      <td>0.023710</td>\n    </tr>\n    <tr>\n      <th>17</th>\n      <td>0.102721</td>\n      <td>-0.140654</td>\n      <td>-0.075876</td>\n      <td>0.085532</td>\n      <td>-0.011040</td>\n    </tr>\n    <tr>\n      <th>18</th>\n      <td>-0.091410</td>\n      <td>-0.399314</td>\n      <td>-0.174561</td>\n      <td>0.460633</td>\n      <td>-0.331005</td>\n    </tr>\n    <tr>\n      <th>19</th>\n      <td>-0.059345</td>\n      <td>-0.031906</td>\n      <td>0.030650</td>\n      <td>0.145787</td>\n      <td>-0.162387</td>\n    </tr>\n    <tr>\n      <th>20</th>\n      <td>-0.229324</td>\n      <td>-0.306182</td>\n      <td>-0.276573</td>\n      <td>0.097142</td>\n      <td>-0.389382</td>\n    </tr>\n    <tr>\n      <th>21</th>\n      <td>-0.092730</td>\n      <td>-0.196368</td>\n      <td>-0.157182</td>\n      <td>0.507736</td>\n      <td>-0.258405</td>\n    </tr>\n    <tr>\n      <th>22</th>\n      <td>-0.158562</td>\n      <td>-0.099270</td>\n      <td>-0.078650</td>\n      <td>0.435517</td>\n      <td>-0.175496</td>\n    </tr>\n    <tr>\n      <th>23</th>\n      <td>-0.013839</td>\n      <td>-0.034275</td>\n      <td>-0.039855</td>\n      <td>0.249789</td>\n      <td>-0.019104</td>\n    </tr>\n    <tr>\n      <th>24</th>\n      <td>-0.290412</td>\n      <td>-0.049850</td>\n      <td>-0.237276</td>\n      <td>-0.036272</td>\n      <td>-0.087071</td>\n    </tr>\n    <tr>\n      <th>25</th>\n      <td>-0.068741</td>\n      <td>-0.161896</td>\n      <td>-0.113903</td>\n      <td>0.443165</td>\n      <td>-0.169758</td>\n    </tr>\n    <tr>\n      <th>26</th>\n      <td>-0.143730</td>\n      <td>0.033546</td>\n      <td>-0.174415</td>\n      <td>0.246710</td>\n      <td>-0.079227</td>\n    </tr>\n    <tr>\n      <th>27</th>\n      <td>-0.063165</td>\n      <td>-0.208341</td>\n      <td>-0.212331</td>\n      <td>0.368176</td>\n      <td>-0.109654</td>\n    </tr>\n    <tr>\n      <th>28</th>\n      <td>-0.013110</td>\n      <td>-0.109102</td>\n      <td>0.107059</td>\n      <td>0.180226</td>\n      <td>-0.128678</td>\n    </tr>\n    <tr>\n      <th>29</th>\n      <td>-0.036548</td>\n      <td>-0.062886</td>\n      <td>0.071405</td>\n      <td>0.124455</td>\n      <td>-0.134076</td>\n    </tr>\n    <tr>\n      <th>30</th>\n      <td>0.070237</td>\n      <td>0.230125</td>\n      <td>-0.104868</td>\n      <td>-0.010204</td>\n      <td>-0.122509</td>\n    </tr>\n    <tr>\n      <th>31</th>\n      <td>0.142658</td>\n      <td>0.272102</td>\n      <td>0.119076</td>\n      <td>-0.099735</td>\n      <td>0.074091</td>\n    </tr>\n    <tr>\n      <th>32</th>\n      <td>-0.160640</td>\n      <td>0.021085</td>\n      <td>-0.120870</td>\n      <td>-0.030574</td>\n      <td>-0.214120</td>\n    </tr>\n    <tr>\n      <th>33</th>\n      <td>0.246507</td>\n      <td>0.044817</td>\n      <td>-0.187730</td>\n      <td>0.084972</td>\n      <td>0.074283</td>\n    </tr>\n    <tr>\n      <th>34</th>\n      <td>0.163538</td>\n      <td>0.129153</td>\n      <td>0.028903</td>\n      <td>0.434556</td>\n      <td>-0.181951</td>\n    </tr>\n    <tr>\n      <th>35</th>\n      <td>-0.073937</td>\n      <td>0.091399</td>\n      <td>-0.002801</td>\n      <td>0.127621</td>\n      <td>-0.089595</td>\n    </tr>\n    <tr>\n      <th>36</th>\n      <td>0.090313</td>\n      <td>0.110137</td>\n      <td>-0.006026</td>\n      <td>-0.134560</td>\n      <td>0.044413</td>\n    </tr>\n    <tr>\n      <th>37</th>\n      <td>-0.061033</td>\n      <td>-0.030893</td>\n      <td>-0.141059</td>\n      <td>0.112909</td>\n      <td>-0.197387</td>\n    </tr>\n    <tr>\n      <th>38</th>\n      <td>-0.235975</td>\n      <td>-0.046568</td>\n      <td>-0.153514</td>\n      <td>-0.232587</td>\n      <td>0.101289</td>\n    </tr>\n    <tr>\n      <th>39</th>\n      <td>0.077226</td>\n      <td>-0.034320</td>\n      <td>-0.177275</td>\n      <td>0.186963</td>\n      <td>-0.368461</td>\n    </tr>\n    <tr>\n      <th>40</th>\n      <td>-0.163946</td>\n      <td>0.005361</td>\n      <td>-0.126651</td>\n      <td>0.035804</td>\n      <td>0.058191</td>\n    </tr>\n    <tr>\n      <th>41</th>\n      <td>0.012201</td>\n      <td>0.032116</td>\n      <td>-0.013903</td>\n      <td>0.017621</td>\n      <td>-0.103072</td>\n    </tr>\n    <tr>\n      <th>42</th>\n      <td>0.098947</td>\n      <td>-0.149714</td>\n      <td>-0.015823</td>\n      <td>-0.052988</td>\n      <td>0.052957</td>\n    </tr>\n    <tr>\n      <th>43</th>\n      <td>0.091281</td>\n      <td>-0.161689</td>\n      <td>-0.316709</td>\n      <td>-0.088789</td>\n      <td>-0.088733</td>\n    </tr>\n    <tr>\n      <th>44</th>\n      <td>-0.198072</td>\n      <td>-0.067294</td>\n      <td>-0.191079</td>\n      <td>0.219469</td>\n      <td>-0.033120</td>\n    </tr>\n    <tr>\n      <th>45</th>\n      <td>0.109897</td>\n      <td>0.023982</td>\n      <td>0.077239</td>\n      <td>0.117064</td>\n      <td>-0.020282</td>\n    </tr>\n    <tr>\n      <th>46</th>\n      <td>0.062546</td>\n      <td>0.164550</td>\n      <td>0.146358</td>\n      <td>0.018794</td>\n      <td>0.146651</td>\n    </tr>\n    <tr>\n      <th>47</th>\n      <td>0.119537</td>\n      <td>-0.114713</td>\n      <td>0.155749</td>\n      <td>0.022336</td>\n      <td>-0.293976</td>\n    </tr>\n    <tr>\n      <th>48</th>\n      <td>-0.009804</td>\n      <td>-0.101604</td>\n      <td>-0.043287</td>\n      <td>-0.113689</td>\n      <td>-0.243278</td>\n    </tr>\n    <tr>\n      <th>49</th>\n      <td>0.027528</td>\n      <td>-0.015729</td>\n      <td>0.017045</td>\n      <td>-0.033040</td>\n      <td>-0.026530</td>\n    </tr>\n    <tr>\n      <th>50</th>\n      <td>-0.074926</td>\n      <td>-0.136937</td>\n      <td>-0.309206</td>\n      <td>-0.000980</td>\n      <td>-0.114496</td>\n    </tr>\n    <tr>\n      <th>51</th>\n      <td>-0.033972</td>\n      <td>-0.320348</td>\n      <td>-0.161745</td>\n      <td>0.055337</td>\n      <td>-0.142317</td>\n    </tr>\n    <tr>\n      <th>52</th>\n      <td>-0.310494</td>\n      <td>-0.022288</td>\n      <td>-0.068580</td>\n      <td>0.261637</td>\n      <td>-0.052972</td>\n    </tr>\n    <tr>\n      <th>53</th>\n      <td>-0.181573</td>\n      <td>0.017784</td>\n      <td>-0.046805</td>\n      <td>0.074879</td>\n      <td>-0.176673</td>\n    </tr>\n    <tr>\n      <th>54</th>\n      <td>-0.120529</td>\n      <td>-0.105436</td>\n      <td>-0.125542</td>\n      <td>0.298482</td>\n      <td>-0.034511</td>\n    </tr>\n  </tbody>\n</table>\n</div>"
     },
     "execution_count": 36,
     "metadata": {},
     "output_type": "execute_result"
    }
   ],
   "source": [
    "import matplotlib.pyplot as plt\n",
    "\n",
    "Augmentation_settings = {\n",
    "    \"Cross Validation Type\": \"kTkV\",\n",
    "    \"model\" : \"RF\",\n",
    "    \"metric\" : \"MSE\", # this does not matter anymore\n",
    "\n",
    "    \"Augment\" : False,\n",
    "    \"transform˘orm\" : True,\n",
    "\n",
    "    \"verbose\" : \"no\",\n",
    "    \"repeat features\": \"no\"\n",
    "}\n",
    "\n",
    "GET = getData(Augmentation_settings)\n",
    "data, outputs = GET.data()\n",
    "\n",
    "outputs = outputs.reshape(outputs.shape[0], 1)\n",
    "\n",
    "print(\"data shape = \", data.shape) #1128 features  (find important K features)\n",
    "\n",
    "data = np.hstack((data, outputs))\n",
    "data = pd.DataFrame(data)\n",
    "\n",
    "corrs = data.corr().abs()\n",
    "importances = corrs.values[-1][:-1]\n",
    "\n",
    "top_k = 5\n",
    "top_columns = np.argpartition(importances, -top_k)[-top_k:]\n",
    "print(\"top 4 columns = \", top_columns)\n",
    "\n",
    "data.iloc[:,top_columns]\n",
    "# plt.bar(np.arange(len(importances)), np.sort(importances))\n",
    "\n"
   ],
   "metadata": {
    "collapsed": false,
    "pycharm": {
     "name": "#%%\n"
    }
   }
  },
  {
   "cell_type": "code",
   "execution_count": 42,
   "outputs": [],
   "source": [
    "param_list = list(itertools.product(*SVR_params.values()))\n",
    "\n",
    "param_dict\n",
    "\n",
    "s = SVR(**param_dict)\n"
   ],
   "metadata": {
    "collapsed": false,
    "pycharm": {
     "name": "#%%\n"
    }
   }
  },
  {
   "cell_type": "code",
   "execution_count": 54,
   "outputs": [],
   "source": [
    "class Model:\n",
    "    def __init__(self, settings):\n",
    "        self.cv = settings[\"Cross Validation Type\"]\n",
    "        self.metric = settings[\"metric\"]\n",
    "        # self.repeat_features = settings[\"repeat\"]\n",
    "        self.m = settings[\"model\"]\n",
    "        if self.cv != \"kTkV\":\n",
    "            self.model = self.get_model(settings[\"model\"])\n",
    "        self.pca = PCA(n_components=2)\n",
    "        self.verbose = settings[\"verbose\"]\n",
    "        self.init(settings)\n",
    "\n",
    "    def init(self, augmentation_settings): # gets the data to train and test\n",
    "        GET = getData(augmentation_settings)\n",
    "        self.data, self.outputs = GET.data()\n",
    "        self.forward()\n",
    "\n",
    "\n",
    "    def CV_(self):\n",
    "        if self.cv == \"LOO\":\n",
    "            return 55\n",
    "        elif self.cv == \"LFiveO\":\n",
    "            return 11\n",
    "        elif self.cv == \"5Fold\":\n",
    "            return 5\n",
    "        elif self.cv == \"11Fold\":\n",
    "            return 11\n",
    "\n",
    "\n",
    "    def get_model(self, model, params=None):\n",
    "        if model == \"SVR\":\n",
    "            if self.cv != \"kTkV\":\n",
    "                return GridSearchCV( SVR(), SVR_params, cv= self.CV_(), scoring = self.metric , return_train_score = True)\n",
    "            else:\n",
    "                return SVR(kernel=params[0], C= params[1], epsilon= params[2], tol=params[3], gamma=params[4])\n",
    "            # return SVR()\\n\",\n",
    "\n",
    "        if model == \"RF\":\n",
    "            if self.cv != \"kTkV\":\n",
    "                return GridSearchCV( RandomForestRegressor() , RFParams, verbose=3, cv = self.CV_(), scoring = self.metric, return_train_score = True)\n",
    "            else:\n",
    "                return RandomForestRegressor(max_depth=params[0], max_features=params[1])\n",
    "\n",
    "\n",
    "    def train(self, data, outputs):\n",
    "        self.model.fit(data, outputs)\n",
    "\n",
    "    def predict(self, data):\n",
    "        return self.model.predict(data)\n",
    "\n",
    "    def get_score(self,data,outputs, return_ = False): #gives out R2 scores\n",
    "        print(\"R2 fit score = \", self.model.score(data, outputs), \"\\n\" )\n",
    "\n",
    "    def CrossValResults(self):\n",
    "        print(self.model.cv_results_)\n",
    "        print('\\n')\n",
    "\n",
    "    def modify_data(self, data):\n",
    "        self.pca.fit(data)\n",
    "        raise NotImplementedError()\n",
    "\n",
    "    def get_data(self):\n",
    "        X_train, X_test, y_train, y_test = train_test_split( self.data, self.outputs, test_size=0.09, random_state=42)\n",
    "\n",
    "        if self.cv != \"kTkV\":\n",
    "            X_train, y_train = self.data, self.outputs\n",
    "\n",
    "        print(\"train data shape = \", X_train.shape)\n",
    "        print(\"train labels shape = \", y_train.shape, \"\\n\")\n",
    "\n",
    "        print(\"test data shape = \", X_test.shape)\n",
    "        print(\"test labels shape = \", y_test.shape, \"\\n\")\n",
    "\n",
    "        return X_train, X_test, y_train, y_test\n",
    "\n",
    "    def normal_cv(self):\n",
    "        X_train, X_test, y_train, y_test = self.get_data()\n",
    "        self.train(X_train, y_train)\n",
    "\n",
    "        print(\"training performance\")\n",
    "        self.get_score(X_train, y_train)\n",
    "\n",
    "        # print(\"test data performance\")\n",
    "        # self.get_score(X_test, y_test)\n",
    "\n",
    "        self.train_predictions_ = self.predict(X_train)\n",
    "        # self.test_predictions_ = self.predict(X_test)\n",
    "\n",
    "    def validate(self, data, outputs, kf2 = None):\n",
    "        if kf2 == None:\n",
    "            kf2 = KFold(n_splits=nsp, shuffle = True)\n",
    "\n",
    "        train_performance = []\n",
    "        train_performance_MAE = []\n",
    "\n",
    "        validate_performance = []\n",
    "        validate_performance_MAE = []\n",
    "\n",
    "        models = []\n",
    "\n",
    "        mean_train_MSE = []\n",
    "        mean_validate_MSE = []\n",
    "        mean_test_MSE = []\n",
    "\n",
    "        for train_index, validate_index in kf2.split(data):\n",
    "            # print(\"train_data shape = \", len(train_index))\n",
    "            # print(\"validate data shape = \", len(validate_index))\n",
    "            self.model = self.get_model(self.m, self.curr_param)\n",
    "            X_train, X_validate = data[train_index], data[validate_index]\n",
    "            y_train, y_validate = outputs[train_index], outputs[validate_index]\n",
    "\n",
    "            self.model.fit(X_train, y_train)\n",
    "            train_predictions = self.model.predict(X_train)\n",
    "            self.train_mean = np.mean(y_train)\n",
    "\n",
    "\n",
    "            validate_predictions = self.model.predict(X_validate)\n",
    "\n",
    "            models.append(self.model)\n",
    "\n",
    "            # ones_train = np.ones(len(y_train))*self.train_mean\n",
    "            # ones_validate = np.ones(len(y_validate))*self.train_mean\n",
    "\n",
    "            # train_performance.append(mean_squared_error(ones_train, y_train))\n",
    "            # validate_performance.append(mean_squared_error(ones_validate,y_validate))\n",
    "\n",
    "            # if self.metric == \"MSE\":\n",
    "            train_performance.append(mean_squared_error(train_predictions, y_train))\n",
    "            validate_performance.append(mean_squared_error(validate_predictions,y_validate))\n",
    "            # elif self.metric == \"MAE\":\n",
    "            train_performance_MAE.append(mean_absolute_error(train_predictions, y_train))\n",
    "            validate_performance_MAE.append(mean_absolute_error(validate_predictions,y_validate))\n",
    "\n",
    "\n",
    "        model = models[np.argmin(validate_performance)]\n",
    "        return np.mean(train_performance), np.mean(validate_performance), np.mean(train_performance_MAE), np.mean(validate_performance_MAE), model\n",
    "\n",
    "\n",
    "\n",
    "    def train_kTkV(self):\n",
    "        kf = KFold(n_splits=11, shuffle = True)\n",
    "        train_performances = []\n",
    "        train_performances_MAE = []\n",
    "\n",
    "        validate_performances = []\n",
    "        validate_performances_MAE = []\n",
    "\n",
    "        test_performances = []\n",
    "        test_performances_MAE = []\n",
    "\n",
    "        models = []\n",
    "\n",
    "\n",
    "        for train_index, test_index in kf.split(self.data):\n",
    "            X_train, X_test = self.data[train_index], self.data[test_index]\n",
    "            y_train, y_test = self.outputs[train_index], self.outputs[test_index]\n",
    "\n",
    "            # print(\"test split shape = \", len(test_index))\n",
    "\n",
    "            self.train_mean = np.median(y_train)\n",
    "\n",
    "            ones_train = np.ones(len(y_train))*self.train_mean\n",
    "            ones_test = np.ones(len(y_test))*self.train_mean\n",
    "\n",
    "\n",
    "            train_performance, validate_performance, train_performance_MAE, validate_performance_MAE, model = self.validate(X_train, y_train)\n",
    "\n",
    "            models.append(model)\n",
    "\n",
    "            # test_ones = np.ones(len(y_test))*self.train_mean\n",
    "            test_predictions = model.predict(X_test)\n",
    "            # test_performance = mean_squared_error(test_ones, y_test)\n",
    "            # if self.metric == \"MSE\":\n",
    "            test_performance = mean_squared_error(test_predictions, y_test)\n",
    "            # elif self.metric == \"MAE\":\n",
    "            test_performance_MAE = mean_absolute_error(test_predictions, y_test)\n",
    "\n",
    "\n",
    "            # train_performance = mean_absolute_error(ones_train, y_train)\n",
    "            # test_performance = mean_absolute_error(ones_test, y_test)\n",
    "\n",
    "            train_performances.append(train_performance)\n",
    "            train_performances_MAE.append(train_performance_MAE)\n",
    "\n",
    "            validate_performances.append(validate_performance)\n",
    "            validate_performances_MAE.append(validate_performance_MAE)\n",
    "\n",
    "            test_performances.append(test_performance)\n",
    "            test_performances_MAE.append(test_performance_MAE)\n",
    "\n",
    "\n",
    "        model = models[np.argmin(test_performances)]\n",
    "        return np.mean(train_performances), np.mean(validate_performances), np.mean(test_performances), np.mean(train_performances_MAE), np.mean(validate_performances_MAE), np.mean(test_performances_MAE), model\n",
    "\n",
    "\n",
    "\n",
    "    def kTkV(self):\n",
    "\n",
    "        validate_performances = []\n",
    "        validate_performances_MAE = []\n",
    "\n",
    "        test_performances = []\n",
    "        test_performances_MAE = []\n",
    "\n",
    "        train_performances = []\n",
    "        train_performances_MAE = []\n",
    "\n",
    "        models = []\n",
    "\n",
    "        if self.m == \"SVR\":\n",
    "            param_list = list(itertools.product(*SVR_params.values()))\n",
    "        elif self.m == \"RF\":\n",
    "            param_list = list(itertools.product(*RFParams.values()))\n",
    "\n",
    "        for self.curr_param in tqdm(param_list, \"params\"):\n",
    "            # self.model = self.get_model(self.m, param)\n",
    "            train_performance, validate_performance, test_performance, train_performance_MAE, validate_performance_MAE, test_performance_MAE, model = self.train_kTkV()\n",
    "\n",
    "            train_performances.append(train_performance)\n",
    "            train_performances_MAE.append(train_performance_MAE)\n",
    "\n",
    "            validate_performances.append(validate_performance)\n",
    "            validate_performances_MAE.append(validate_performance_MAE)\n",
    "\n",
    "            test_performances.append(test_performance)\n",
    "            test_performances_MAE.append(test_performance_MAE)\n",
    "\n",
    "            models.append(model)\n",
    "\n",
    "        train_performance_ranking = sp.rankdata(train_performances)\n",
    "        val_performance_ranking = sp.rankdata(validate_performances)\n",
    "        test_performance_ranking = sp.rankdata(test_performances)\n",
    "\n",
    "\n",
    "        self.dataframe = {\n",
    "\n",
    "            \"train performance MSE\" : train_performances,\n",
    "            \"test performance MSE\" : test_performances,\n",
    "            \"validate performance MSE\" : validate_performances,\n",
    "\n",
    "            \"train performance MAE\" : train_performances_MAE,\n",
    "            \"validate performance MAE\" : validate_performances_MAE,\n",
    "            \"test performances MAE\" : test_performances_MAE,\n",
    "\n",
    "            \"train rank\" : train_performance_ranking,\n",
    "            \"validate rank\" : val_performance_ranking,\n",
    "            \"test rank\" : test_performance_ranking,\n",
    "\n",
    "            \"params\" : param_list\n",
    "        }\n",
    "\n",
    "        self.cv_results_ = pd.DataFrame.from_dict(self.dataframe)\n",
    "\n",
    "    def forward(self):\n",
    "\n",
    "        if self.cv != \"kTkV\":\n",
    "            self.normal_cv()\n",
    "        else:\n",
    "            self.kTkV()\n",
    "\n"
   ],
   "metadata": {
    "collapsed": false,
    "pycharm": {
     "name": "#%%\n"
    }
   }
  },
  {
   "cell_type": "code",
   "execution_count": 55,
   "outputs": [
    {
     "name": "stderr",
     "output_type": "stream",
     "text": [
      "params: 100%|██████████| 85/85 [16:42<00:00, 11.79s/it]\n"
     ]
    }
   ],
   "source": [
    "if __name__ == \"__main__\":\n",
    "\n",
    "    Augmentation_settings = {\n",
    "        \"Cross Validation Type\": \"kTkV\",\n",
    "        \"model\" : \"RF\",\n",
    "        \"metric\" : \"MSE\", # this does not matter anymore\n",
    "\n",
    "        \"Augment\" : False,\n",
    "        \"transform˘orm\" : True,\n",
    "\n",
    "        \"verbose\" : \"no\",\n",
    "        \"repeat features\": \"no\"\n",
    "    }\n",
    "\n",
    "    model = Model(Augmentation_settings)\n",
    "\n",
    "    # RF with reduced number of features"
   ],
   "metadata": {
    "collapsed": false,
    "pycharm": {
     "name": "#%%\n"
    }
   }
  },
  {
   "cell_type": "code",
   "execution_count": 84,
   "outputs": [
    {
     "data": {
      "text/plain": "    train performance MSE  test performance MSE  validate performance MSE  \\\n65              75.325129            551.122559                536.416651   \n\n    train performance MAE  validate performance MAE  test performances MAE  \\\n65               7.288807                 19.700176              20.189164   \n\n    train rank  validate rank  test rank       params  \n65        14.0            1.0       33.0  (700, log2)  ",
      "text/html": "<div>\n<style scoped>\n    .dataframe tbody tr th:only-of-type {\n        vertical-align: middle;\n    }\n\n    .dataframe tbody tr th {\n        vertical-align: top;\n    }\n\n    .dataframe thead th {\n        text-align: right;\n    }\n</style>\n<table border=\"1\" class=\"dataframe\">\n  <thead>\n    <tr style=\"text-align: right;\">\n      <th></th>\n      <th>train performance MSE</th>\n      <th>test performance MSE</th>\n      <th>validate performance MSE</th>\n      <th>train performance MAE</th>\n      <th>validate performance MAE</th>\n      <th>test performances MAE</th>\n      <th>train rank</th>\n      <th>validate rank</th>\n      <th>test rank</th>\n      <th>params</th>\n    </tr>\n  </thead>\n  <tbody>\n    <tr>\n      <th>65</th>\n      <td>75.325129</td>\n      <td>551.122559</td>\n      <td>536.416651</td>\n      <td>7.288807</td>\n      <td>19.700176</td>\n      <td>20.189164</td>\n      <td>14.0</td>\n      <td>1.0</td>\n      <td>33.0</td>\n      <td>(700, log2)</td>\n    </tr>\n  </tbody>\n</table>\n</div>"
     },
     "execution_count": 84,
     "metadata": {},
     "output_type": "execute_result"
    }
   ],
   "source": [
    "cvr = model.cv_results_\n",
    "cvr[cvr[\"validate rank\"]==1]\n",
    "# cvr[cvr[\"params\"] == (\"linear\", 0.1, 0.0001, 1, 1e-09)]\n",
    "# cvr\n",
    "# print(\"train performance = \", np.mean(cvr[\"train performance\"]))\n",
    "# print(\"test performance = \", np.mean(cvr[\"test performance\"]))\n",
    "# print(\"validate performance = \", np.mean(cvr[\"validate performance\"]))\n",
    "# cvr\n",
    "# cvr.to_csv(\"mean_kTkV_svr_mse.csv\")p"
   ],
   "metadata": {
    "collapsed": false,
    "pycharm": {
     "name": "#%%\n"
    }
   }
  },
  {
   "cell_type": "code",
   "execution_count": 85,
   "outputs": [],
   "source": [
    "# m = model.model\n",
    "# cvr = pd.DataFrame(m.cv_results_)\n",
    "\n",
    "As = Augmentation_settings\n",
    "name = As[\"Cross Validation Type\"] + \"_\" + As[\"model\"] + \"_\" + As[\"metric\"] + \"_\" + \"reduced\" + \".csv\"\n",
    "cvr.to_csv(\"results/\" + name)\n",
    "# cvr[cvr[\"rank_test_score\"] == 1]\n",
    "\n",
    "# list(cvr)"
   ],
   "metadata": {
    "collapsed": false,
    "pycharm": {
     "name": "#%%\n"
    }
   }
  },
  {
   "cell_type": "code",
   "execution_count": 55,
   "outputs": [
    {
     "data": {
      "text/plain": "19.256427498370513"
     },
     "execution_count": 55,
     "metadata": {},
     "output_type": "execute_result"
    }
   ],
   "source": [
    "np.sqrt(370.81)"
   ],
   "metadata": {
    "collapsed": false,
    "pycharm": {
     "name": "#%%\n"
    }
   }
  }
 ],
 "metadata": {
  "kernelspec": {
   "display_name": "Python 3",
   "language": "python",
   "name": "python3"
  },
  "language_info": {
   "codemirror_mode": {
    "name": "ipython",
    "version": 2
   },
   "file_extension": ".py",
   "mimetype": "text/x-python",
   "name": "python",
   "nbconvert_exporter": "python",
   "pygments_lexer": "ipython2",
   "version": "2.7.6"
  }
 },
 "nbformat": 4,
 "nbformat_minor": 0
}